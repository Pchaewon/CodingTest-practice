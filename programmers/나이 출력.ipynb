{
 "cells": [
  {
   "attachments": {},
   "cell_type": "markdown",
   "metadata": {},
   "source": [
    "[문제 링크](https://school.programmers.co.kr/learn/courses/30/lessons/120820)\n",
    "\n",
    "**프로그래머스 LV.0** <br>\n",
    "Q. 머쓱이는 40살인 선생님이 몇 년도에 태어났는지 궁금해졌습니다. 나이 age가 주어질 때, 2022년을 기준 출생 연도를 return 하는 solution 함수를 완성해주세요.\n",
    "> __1. 입출력 예__ <br>\n",
    ">  age   | result <br>\n",
    ">  40     |  1983 <br>\n",
    ">  23     |  2000<br>\n",
    "\n",
    "> __2. 제한사항__ <br>\n",
    "> 0 < age ≤ 120 <br>\n",
    "> 나이는 태어난 연도에 1살이며 1년마다 1씩 증가합니다. <br>"
   ]
  },
  {
   "attachments": {},
   "cell_type": "markdown",
   "metadata": {},
   "source": [
    "**MY SOLUTION**"
   ]
  },
  {
   "cell_type": "code",
   "execution_count": 1,
   "metadata": {},
   "outputs": [],
   "source": [
    "def solution(age):\n",
    "    if 0<=age<=120:\n",
    "        answer = (2022-age)+1\n",
    "    else:\n",
    "        print(\"error\")\n",
    "    return answer"
   ]
  },
  {
   "cell_type": "code",
   "execution_count": 2,
   "metadata": {},
   "outputs": [
    {
     "name": "stdout",
     "output_type": "stream",
     "text": [
      "1983\n",
      "2000\n"
     ]
    }
   ],
   "source": [
    "age=40\n",
    "print(solution(age))\n",
    "age=23\n",
    "print(solution(age))"
   ]
  },
  {
   "attachments": {},
   "cell_type": "markdown",
   "metadata": {},
   "source": [
    "**OTHER SOLUTION**"
   ]
  },
  {
   "cell_type": "code",
   "execution_count": 3,
   "metadata": {},
   "outputs": [],
   "source": [
    "def solution(age):\n",
    "    return 2023-age"
   ]
  },
  {
   "cell_type": "code",
   "execution_count": 4,
   "metadata": {},
   "outputs": [
    {
     "name": "stdout",
     "output_type": "stream",
     "text": [
      "1983\n",
      "2000\n"
     ]
    }
   ],
   "source": [
    "age=40\n",
    "print(solution(age))\n",
    "age=23\n",
    "print(solution(age))"
   ]
  }
 ],
 "metadata": {
  "kernelspec": {
   "display_name": "py37",
   "language": "python",
   "name": "python3"
  },
  "language_info": {
   "codemirror_mode": {
    "name": "ipython",
    "version": 3
   },
   "file_extension": ".py",
   "mimetype": "text/x-python",
   "name": "python",
   "nbconvert_exporter": "python",
   "pygments_lexer": "ipython3",
   "version": "3.7.11"
  },
  "orig_nbformat": 4,
  "vscode": {
   "interpreter": {
    "hash": "280444b613aeb69e41669d44840d633211e28c9dfa34c3c3fb1d8583d42642e5"
   }
  }
 },
 "nbformat": 4,
 "nbformat_minor": 2
}
