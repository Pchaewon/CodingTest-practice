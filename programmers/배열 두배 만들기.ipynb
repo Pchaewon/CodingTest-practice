{
 "cells": [
  {
   "attachments": {},
   "cell_type": "markdown",
   "metadata": {},
   "source": [
    "[문제 링크](https://school.programmers.co.kr/learn/courses/30/lessons/120809)\n",
    "\n",
    "**프로그래머스 LV.0**\n",
    "Q. 정수 배열 numbers가 매개변수로 주어집니다. numbers의 각 원소에 두배한 원소를 가진 배열을 return하도록 solution 함수를 완성해주세요.\n",
    "> __1. 입출력 예__ <br>\n",
    "> numbers\t                |  result <br>\n",
    "> [1, 2, 3, 4, 5]           | [2, 4, 6, 8, 10] <br>\n",
    "> [1, 2, 100, -99, 1, 2, 3] | [2, 4, 200, -198, 2, 4, 6] <br>\n",
    "\n",
    "> __2. 제한사항__ <br>\n",
    "> -10,000 ≤ numbers의 원소 ≤ 10,000 <br>\n",
    "> 1 ≤ numbers의 길이 ≤ 1,000 <br>\n"
   ]
  },
  {
   "attachments": {},
   "cell_type": "markdown",
   "metadata": {},
   "source": [
    "**MY SOLUTION**"
   ]
  },
  {
   "cell_type": "code",
   "execution_count": 36,
   "metadata": {},
   "outputs": [],
   "source": [
    "def solution(numbers):\n",
    "    answer = []\n",
    "    for i in range(len(numbers)):\n",
    "            answer.append(numbers[i]*2)\n",
    "    return answer"
   ]
  },
  {
   "cell_type": "code",
   "execution_count": 37,
   "metadata": {},
   "outputs": [
    {
     "name": "stdout",
     "output_type": "stream",
     "text": [
      "[2, 4, 6, 8, 10]\n"
     ]
    }
   ],
   "source": [
    "numbers = [1,2,3,4,5]\n",
    "print(solution(numbers))"
   ]
  },
  {
   "cell_type": "code",
   "execution_count": 38,
   "metadata": {},
   "outputs": [
    {
     "name": "stdout",
     "output_type": "stream",
     "text": [
      "[2, 4, 200, -198, 2, 4, 6]\n"
     ]
    }
   ],
   "source": [
    "numbers = [1, 2, 100, -99, 1, 2, 3]\n",
    "print(solution(numbers))"
   ]
  },
  {
   "cell_type": "markdown",
   "metadata": {},
   "source": [
    "**OTHER SOLUTION**"
   ]
  },
  {
   "cell_type": "code",
   "execution_count": 40,
   "metadata": {},
   "outputs": [],
   "source": [
    "# 리스트 컴프리헨션 : 표현식 for 항목 in 반복가능객체 if 조건문\n",
    "def solution(numbers):\n",
    "    return [num*2 for num in numbers]"
   ]
  },
  {
   "cell_type": "code",
   "execution_count": 41,
   "metadata": {},
   "outputs": [
    {
     "name": "stdout",
     "output_type": "stream",
     "text": [
      "[2, 4, 6, 8, 10]\n",
      "[2, 4, 200, -198, 2, 4, 6]\n"
     ]
    }
   ],
   "source": [
    "numbers = [1,2,3,4,5]\n",
    "print(solution(numbers))\n",
    "numbers = [1, 2, 100, -99, 1, 2, 3]\n",
    "print(solution(numbers))"
   ]
  },
  {
   "attachments": {},
   "cell_type": "markdown",
   "metadata": {},
   "source": [
    "**OTHER SOLUTION(2)**"
   ]
  },
  {
   "cell_type": "code",
   "execution_count": 42,
   "metadata": {},
   "outputs": [],
   "source": [
    "# map(function, iterable) : 두번째 매개변수는 반복가능한 자료형(리스트 or 튜플)이 온다.\n",
    "def solution(numbers):\n",
    "    return list(map(lambda x: x * 2, numbers))"
   ]
  },
  {
   "cell_type": "code",
   "execution_count": 43,
   "metadata": {},
   "outputs": [
    {
     "name": "stdout",
     "output_type": "stream",
     "text": [
      "[2, 4, 6, 8, 10]\n",
      "[2, 4, 200, -198, 2, 4, 6]\n"
     ]
    }
   ],
   "source": [
    "numbers = [1,2,3,4,5]\n",
    "print(solution(numbers))\n",
    "numbers = [1, 2, 100, -99, 1, 2, 3]\n",
    "print(solution(numbers))"
   ]
  },
  {
   "attachments": {},
   "cell_type": "markdown",
   "metadata": {},
   "source": [
    "**OTHER SOLUTION(3)**"
   ]
  },
  {
   "cell_type": "code",
   "execution_count": 49,
   "metadata": {},
   "outputs": [],
   "source": [
    "# numpy.ndarray.tolist() : 넘파이 array를 list로 변환 \n",
    "import numpy as np\n",
    "\n",
    "def solution(numbers):\n",
    "    answer = []\n",
    "    answer = np.array(numbers)*2\n",
    "    print(f'answer type:{type(answer)}')\n",
    "    answer = answer.tolist()\n",
    "    print(f'answer type:{type(answer)}')\n",
    "    return answer"
   ]
  },
  {
   "cell_type": "code",
   "execution_count": 51,
   "metadata": {},
   "outputs": [
    {
     "name": "stdout",
     "output_type": "stream",
     "text": [
      "answer type:<class 'numpy.ndarray'>\n",
      "answer type:<class 'list'>\n",
      "[2, 4, 6, 8, 10]\n"
     ]
    }
   ],
   "source": [
    "numbers = [1,2,3,4,5]\n",
    "print(solution(numbers))"
   ]
  }
 ],
 "metadata": {
  "kernelspec": {
   "display_name": "py37",
   "language": "python",
   "name": "python3"
  },
  "language_info": {
   "codemirror_mode": {
    "name": "ipython",
    "version": 3
   },
   "file_extension": ".py",
   "mimetype": "text/x-python",
   "name": "python",
   "nbconvert_exporter": "python",
   "pygments_lexer": "ipython3",
   "version": "3.7.11"
  },
  "orig_nbformat": 4,
  "vscode": {
   "interpreter": {
    "hash": "280444b613aeb69e41669d44840d633211e28c9dfa34c3c3fb1d8583d42642e5"
   }
  }
 },
 "nbformat": 4,
 "nbformat_minor": 2
}
