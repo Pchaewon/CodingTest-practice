{
 "cells": [
  {
   "attachments": {},
   "cell_type": "markdown",
   "metadata": {},
   "source": [
    "[문제 링크](https://school.programmers.co.kr/learn/courses/30/lessons/120821)\n",
    "\n",
    "**프로그래머스 LV.0** <br>\n",
    "Q. 정수가 들어 있는 배열 num_list가 매개변수로 주어집니다. <br>num_list의 원소의 순서를 거꾸로 뒤집은 배열을 return하도록 solution 함수를 완성해주세요.<br>\n"
   ]
  },
  {
   "attachments": {},
   "cell_type": "markdown",
   "metadata": {},
   "source": [
    "**MY SOLUTION**"
   ]
  },
  {
   "cell_type": "code",
   "execution_count": 13,
   "metadata": {},
   "outputs": [],
   "source": [
    "def solution(num_list):\n",
    "    num_list.reverse()\n",
    "    return num_list"
   ]
  },
  {
   "cell_type": "code",
   "execution_count": 14,
   "metadata": {},
   "outputs": [
    {
     "name": "stdout",
     "output_type": "stream",
     "text": [
      "[5, 4, 3, 2, 1]\n",
      "[2, 1, 1, 1, 1, 1]\n",
      "[5, 3, 1, 1, 1, 0, 1]\n"
     ]
    }
   ],
   "source": [
    "print(solution([1, 2, 3, 4, 5]))\n",
    "print(solution([1, 1, 1, 1, 1, 2]))\n",
    "print(solution([1, 0, 1, 1, 1, 3, 5]))"
   ]
  },
  {
   "attachments": {},
   "cell_type": "markdown",
   "metadata": {},
   "source": [
    "**OTHER SOLUTION**"
   ]
  },
  {
   "cell_type": "code",
   "execution_count": 15,
   "metadata": {},
   "outputs": [],
   "source": [
    "def solution(num_list):\n",
    "    return num_list[::-1]"
   ]
  },
  {
   "cell_type": "code",
   "execution_count": 16,
   "metadata": {},
   "outputs": [
    {
     "name": "stdout",
     "output_type": "stream",
     "text": [
      "[5, 4, 3, 2, 1]\n",
      "[2, 1, 1, 1, 1, 1]\n",
      "[5, 3, 1, 1, 1, 0, 1]\n"
     ]
    }
   ],
   "source": [
    "print(solution([1, 2, 3, 4, 5]))\n",
    "print(solution([1, 1, 1, 1, 1, 2]))\n",
    "print(solution([1, 0, 1, 1, 1, 3, 5]))"
   ]
  },
  {
   "attachments": {},
   "cell_type": "markdown",
   "metadata": {},
   "source": [
    "**OTHER SOLUTION**"
   ]
  },
  {
   "cell_type": "code",
   "execution_count": 17,
   "metadata": {},
   "outputs": [],
   "source": [
    "def solution(num_list):\n",
    "    result =[]\n",
    "    while(num_list):\n",
    "        result.append(num_list.pop())\n",
    "    return result"
   ]
  },
  {
   "cell_type": "code",
   "execution_count": 18,
   "metadata": {},
   "outputs": [
    {
     "name": "stdout",
     "output_type": "stream",
     "text": [
      "[5, 4, 3, 2, 1]\n",
      "[2, 1, 1, 1, 1, 1]\n",
      "[5, 3, 1, 1, 1, 0, 1]\n"
     ]
    }
   ],
   "source": [
    "print(solution([1, 2, 3, 4, 5]))\n",
    "print(solution([1, 1, 1, 1, 1, 2]))\n",
    "print(solution([1, 0, 1, 1, 1, 3, 5]))"
   ]
  },
  {
   "attachments": {},
   "cell_type": "markdown",
   "metadata": {},
   "source": [
    "**OTHER SOLUTION**"
   ]
  },
  {
   "cell_type": "code",
   "execution_count": 19,
   "metadata": {},
   "outputs": [],
   "source": [
    "def solution(num_list):\n",
    "    answer = []\n",
    "    for i in range(len(num_list)-1, -1, -1):\n",
    "        answer.append(num_list[i])\n",
    "    return answer"
   ]
  },
  {
   "cell_type": "code",
   "execution_count": 20,
   "metadata": {},
   "outputs": [
    {
     "name": "stdout",
     "output_type": "stream",
     "text": [
      "[5, 4, 3, 2, 1]\n",
      "[2, 1, 1, 1, 1, 1]\n",
      "[5, 3, 1, 1, 1, 0, 1]\n"
     ]
    }
   ],
   "source": [
    "print(solution([1, 2, 3, 4, 5]))\n",
    "print(solution([1, 1, 1, 1, 1, 2]))\n",
    "print(solution([1, 0, 1, 1, 1, 3, 5]))"
   ]
  },
  {
   "attachments": {},
   "cell_type": "markdown",
   "metadata": {},
   "source": [
    "**OTHER SOLUTION**"
   ]
  },
  {
   "cell_type": "code",
   "execution_count": 21,
   "metadata": {},
   "outputs": [],
   "source": [
    "from collections import deque\n",
    "def solution(num_list):\n",
    "    answer = deque([])\n",
    "    for i in num_list:\n",
    "        answer.appendleft(i)\n",
    "    return list(answer)"
   ]
  },
  {
   "cell_type": "code",
   "execution_count": 22,
   "metadata": {},
   "outputs": [
    {
     "name": "stdout",
     "output_type": "stream",
     "text": [
      "[5, 4, 3, 2, 1]\n",
      "[2, 1, 1, 1, 1, 1]\n",
      "[5, 3, 1, 1, 1, 0, 1]\n"
     ]
    }
   ],
   "source": [
    "print(solution([1, 2, 3, 4, 5]))\n",
    "print(solution([1, 1, 1, 1, 1, 2]))\n",
    "print(solution([1, 0, 1, 1, 1, 3, 5]))"
   ]
  },
  {
   "cell_type": "code",
   "execution_count": null,
   "metadata": {},
   "outputs": [],
   "source": []
  }
 ],
 "metadata": {
  "kernelspec": {
   "display_name": "py37",
   "language": "python",
   "name": "python3"
  },
  "language_info": {
   "codemirror_mode": {
    "name": "ipython",
    "version": 3
   },
   "file_extension": ".py",
   "mimetype": "text/x-python",
   "name": "python",
   "nbconvert_exporter": "python",
   "pygments_lexer": "ipython3",
   "version": "3.7.11"
  },
  "orig_nbformat": 4,
  "vscode": {
   "interpreter": {
    "hash": "280444b613aeb69e41669d44840d633211e28c9dfa34c3c3fb1d8583d42642e5"
   }
  }
 },
 "nbformat": 4,
 "nbformat_minor": 2
}
