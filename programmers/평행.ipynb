{
 "cells": [
  {
   "attachments": {},
   "cell_type": "markdown",
   "metadata": {},
   "source": [
    "[문제 링크](https://school.programmers.co.kr/learn/courses/30/lessons/120875)\n",
    "\n",
    "**프로그래머스 LV.0**\n",
    "Q. 점 네 개의 좌표를 담은 이차원 배열  dots가 다음과 같이 매개변수로 주어집니다.<br>\n",
    "[[x1, y1], [x2, y2], [x3, y3], [x4, y4]]<br>\n",
    "주어진 네 개의 점을 두 개씩 이었을 때, 두 직선이 평행이 되는 경우가 있으면 1을 없으면 0을 return 하도록 solution 함수를 완성해보세요.<br>\n",
    "> dots\t                |  result <br>\n",
    "> [[1, 4], [9, 2], [3, 8], [11, 6]]          |1 <br>\n",
    "> [[3, 5], [4, 1], [2, 4], [5, 10]] |0<br>\n",
    "\n",
    "> __2. 제한사항__ <br>\n",
    ">dots의 길이 = 4<br>\n",
    ">dots의 원소는 [x, y] 형태이며 x, y는 정수입니다.<br>\n",
    ">0 ≤ x, y ≤ 100<br>\n",
    ">서로 다른 두개 이상의 점이 겹치는 경우는 없습니다.<br>\n",
    ">두 직선이 겹치는 경우(일치하는 경우)에도 1을 return 해주세요.<br>\n",
    ">임의의 두 점을 이은 직선이 x축 또는 y축과 평행한 경우는 주어지지 않습니다.<br>\n",
    "\n"
   ]
  },
  {
   "attachments": {},
   "cell_type": "markdown",
   "metadata": {},
   "source": [
    "**기울기**\n",
    "- slope = (y2-y1)/(x2-x1)"
   ]
  },
  {
   "attachments": {},
   "cell_type": "markdown",
   "metadata": {},
   "source": [
    "**MY SOLUTION**"
   ]
  },
  {
   "cell_type": "code",
   "execution_count": 11,
   "metadata": {},
   "outputs": [],
   "source": [
    "def solution(dots):\n",
    "    answer = 0\n",
    "    \n",
    "    # 비교1\n",
    "    ans1 = (dots[0][0]-dots[1][0])/(dots[0][1]-dots[1][1])\n",
    "    ans2 = (dots[2][0]-dots[3][0])/(dots[2][1]-dots[3][1])\n",
    "    \n",
    "    # 비교2\n",
    "    ans3 = (dots[0][0]-dots[2][0])/(dots[0][1]-dots[2][1])\n",
    "    ans4 = (dots[1][0]-dots[3][0])/(dots[1][1]-dots[3][1])\n",
    "    \n",
    "    if ans1 == ans2 or ans3 == ans4 :\n",
    "        return 1\n",
    "    return 0"
   ]
  },
  {
   "cell_type": "code",
   "execution_count": 12,
   "metadata": {},
   "outputs": [
    {
     "name": "stdout",
     "output_type": "stream",
     "text": [
      "1\n",
      "0\n"
     ]
    }
   ],
   "source": [
    "dots = [[1,4],[9,2],[3,8],[11,6]]\n",
    "print(solution(dots))\n",
    "\n",
    "dots2=[[3, 5], [4, 1], [2, 4], [5, 10]]\n",
    "print(solution(dots2))"
   ]
  },
  {
   "attachments": {},
   "cell_type": "markdown",
   "metadata": {},
   "source": [
    "**OTHER SOLUTION**"
   ]
  },
  {
   "cell_type": "code",
   "execution_count": 17,
   "metadata": {},
   "outputs": [],
   "source": [
    "# combinations 조합\n",
    "# : 서로 다른 n개 중에서 r개(n>=r)를 취해 조를 만들때, 하나하나의 조를 n개 중에서 r개 취한 조합이라 한다. 순서를 고려하지 않는다.\n",
    "# combinations(n, r)\n",
    "from itertools import combinations\n",
    "\n",
    "def solution(dots):\n",
    "    a = []\n",
    "    for (x1,y1),(x2,y2) in combinations(dots,2):\n",
    "        # print(f'(x1,y1): {(x1,y1)}')\n",
    "        # print(f'(x2,y2): {(x2,y2)}')\n",
    "        a.append((y2-y1,x2-x1))\n",
    "        # print(f'a:{a}')\n",
    "\n",
    "    for (x1,y1),(x2,y2) in combinations(a,2):\n",
    "        if x1*y2==x2*y1:\n",
    "            return 1\n",
    "    return 0"
   ]
  },
  {
   "cell_type": "code",
   "execution_count": 18,
   "metadata": {},
   "outputs": [
    {
     "name": "stdout",
     "output_type": "stream",
     "text": [
      "1\n",
      "0\n"
     ]
    }
   ],
   "source": [
    "dots = [[1,4],[9,2],[3,8],[11,6]]\n",
    "print(solution(dots))\n",
    "\n",
    "dots2=[[3, 5], [4, 1], [2, 4], [5, 10]]\n",
    "print(solution(dots2))"
   ]
  },
  {
   "attachments": {},
   "cell_type": "markdown",
   "metadata": {},
   "source": [
    "**OTHER SOLUTION(2)**"
   ]
  },
  {
   "cell_type": "code",
   "execution_count": 19,
   "metadata": {},
   "outputs": [],
   "source": [
    "def solution(dots):\n",
    "    [[x1, y1], [x2, y2], [x3, y3], [x4, y4]]=dots\n",
    "    answer1 = ((y1-y2)*(x3-x4) == (y3-y4)*(x1-x2))\n",
    "    answer2 = ((y1-y3)*(x2-x4) == (y2-y4)*(x1-x3))\n",
    "    answer3 = ((y1-y4)*(x2-x3) == (y2-y3)*(x1-x4))\n",
    "    return 1 if answer1 or answer2 or answer3 else 0"
   ]
  },
  {
   "cell_type": "code",
   "execution_count": 20,
   "metadata": {},
   "outputs": [
    {
     "name": "stdout",
     "output_type": "stream",
     "text": [
      "1\n",
      "0\n"
     ]
    }
   ],
   "source": [
    "dots = [[1,4],[9,2],[3,8],[11,6]]\n",
    "print(solution(dots))\n",
    "\n",
    "dots2=[[3, 5], [4, 1], [2, 4], [5, 10]]\n",
    "print(solution(dots2))"
   ]
  },
  {
   "attachments": {},
   "cell_type": "markdown",
   "metadata": {},
   "source": [
    "**OTHER SOLUTION(3)**"
   ]
  },
  {
   "cell_type": "code",
   "execution_count": 25,
   "metadata": {},
   "outputs": [],
   "source": [
    "def solution(dots):\n",
    "    temp = []\n",
    "    answer = 0\n",
    "    for i in range(len(dots)):\n",
    "        x, y = dots[i]\n",
    "        # print(f'x: {x}')\n",
    "        # print(f'y: {y}')\n",
    "        for j in range(i, len(dots)):\n",
    "            if i == j:\n",
    "                continue\n",
    "            x1, y1 = dots[j]\n",
    "            if y - y1 == 0:\n",
    "                temp.append(0)\n",
    "            else:\n",
    "                temp.append((x-x1)/(y-y1))\n",
    "    # print(f'temp:{temp}')\n",
    "    s = set(temp)\n",
    "    # print(f's:{s}')\n",
    "    if len(s) == len(temp):\n",
    "        return 0\n",
    "    return 1"
   ]
  },
  {
   "cell_type": "code",
   "execution_count": 26,
   "metadata": {},
   "outputs": [
    {
     "name": "stdout",
     "output_type": "stream",
     "text": [
      "1\n",
      "0\n"
     ]
    }
   ],
   "source": [
    "dots = [[1,4],[9,2],[3,8],[11,6]]\n",
    "print(solution(dots))\n",
    "\n",
    "dots2=[[3, 5], [4, 1], [2, 4], [5, 10]]\n",
    "print(solution(dots2))"
   ]
  }
 ],
 "metadata": {
  "kernelspec": {
   "display_name": "py37",
   "language": "python",
   "name": "python3"
  },
  "language_info": {
   "codemirror_mode": {
    "name": "ipython",
    "version": 3
   },
   "file_extension": ".py",
   "mimetype": "text/x-python",
   "name": "python",
   "nbconvert_exporter": "python",
   "pygments_lexer": "ipython3",
   "version": "3.7.11"
  },
  "orig_nbformat": 4,
  "vscode": {
   "interpreter": {
    "hash": "280444b613aeb69e41669d44840d633211e28c9dfa34c3c3fb1d8583d42642e5"
   }
  }
 },
 "nbformat": 4,
 "nbformat_minor": 2
}
