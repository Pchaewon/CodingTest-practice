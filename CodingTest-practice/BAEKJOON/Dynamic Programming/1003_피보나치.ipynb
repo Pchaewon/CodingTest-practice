{
  "nbformat": 4,
  "nbformat_minor": 0,
  "metadata": {
    "colab": {
      "name": "1003 피보나치.ipynb",
      "provenance": [],
      "collapsed_sections": [],
      "authorship_tag": "ABX9TyPit+BvwIQVVYWpiOO7K5+b"
    },
    "kernelspec": {
      "name": "python3",
      "display_name": "Python 3"
    },
    "language_info": {
      "name": "python"
    }
  },
  "cells": [
    {
      "cell_type": "code",
      "execution_count": null,
      "metadata": {
        "id": "xjwprbYNbQPC"
      },
      "outputs": [],
      "source": [
        "# 1003 피보나치 함수(실버3)\n",
        "n = int(input())\n",
        "def fibonacci(n):\n",
        "  if n==0:\n",
        "    print(\"0\")\n",
        "    return 0\n",
        "  elif n==1:  \n",
        "    print(\"1\")\n",
        "    return 1\n",
        "  else:\n",
        "    return fibonacci(n-1)+fibonaci(n-2)\n"
      ]
    },
    {
      "cell_type": "code",
      "source": [
        "zero = [1,0,1]\n",
        "one=[0,1,1]\n",
        "def fibonacci(num):\n",
        "  length = len(zero)\n",
        "  if num >= length:\n",
        "    for i in range(length,num+1):\n",
        "      zero.append(zero[i-1]+zero[i-2])\n",
        "      one.append(one[i-1]+one[i-2])\n",
        "  print('{} {}'.format(zero[num],one[num]))\n",
        "\n",
        "T = int(input())\n",
        "for _ in range(T):\n",
        "  fibonacci(int(input()))\n"
      ],
      "metadata": {
        "colab": {
          "base_uri": "https://localhost:8080/"
        },
        "id": "HNAZ7Ry2hat2",
        "outputId": "bc4f08f5-45a3-4da6-9d80-464cf6052824"
      },
      "execution_count": 10,
      "outputs": [
        {
          "output_type": "stream",
          "name": "stdout",
          "text": [
            "2\n",
            "6\n",
            "5 8\n",
            "22\n",
            "10946 17711\n"
          ]
        }
      ]
    }
  ]
}