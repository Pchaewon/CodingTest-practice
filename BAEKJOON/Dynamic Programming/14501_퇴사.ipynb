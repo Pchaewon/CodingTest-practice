{
 "cells": [
  {
   "cell_type": "markdown",
   "id": "ccb266a1",
   "metadata": {},
   "source": [
    "## 1. 다이나믹 프로그래밍으로 풀기"
   ]
  },
  {
   "cell_type": "code",
   "execution_count": 7,
   "id": "c2be95ca",
   "metadata": {},
   "outputs": [
    {
     "name": "stdout",
     "output_type": "stream",
     "text": [
      "7\n"
     ]
    }
   ],
   "source": [
    "n = int(input())\n",
    "t_l=[]\n",
    "p_l=[]\n",
    "c_b=[]"
   ]
  },
  {
   "cell_type": "code",
   "execution_count": 8,
   "id": "74c819aa",
   "metadata": {},
   "outputs": [
    {
     "name": "stdout",
     "output_type": "stream",
     "text": [
      "3 10\n",
      "5 20\n",
      "1 10\n",
      "1 20\n",
      "2 15\n",
      "4 40\n",
      "2 200\n"
     ]
    }
   ],
   "source": [
    "for i in range(n):\n",
    "    x, y =map(int, input().split())\n",
    "    t_l.append(x)\n",
    "    p_l.append(y)\n",
    "    c_b.append(y)\n",
    "c_b.append(0)"
   ]
  },
  {
   "cell_type": "code",
   "execution_count": 9,
   "id": "b6ddcf10",
   "metadata": {},
   "outputs": [
    {
     "name": "stdout",
     "output_type": "stream",
     "text": [
      "[3, 5, 1, 1, 2, 4, 2]\n"
     ]
    }
   ],
   "source": [
    "#상담완료까지 걸리는 시간\n",
    "print(t_l)"
   ]
  },
  {
   "cell_type": "code",
   "execution_count": 10,
   "id": "2b8de7d0",
   "metadata": {},
   "outputs": [
    {
     "name": "stdout",
     "output_type": "stream",
     "text": [
      "[10, 20, 10, 20, 15, 40, 200]\n"
     ]
    }
   ],
   "source": [
    "#상담했을 때 받을 수 있는 금액\n",
    "print(p_l)"
   ]
  },
  {
   "cell_type": "code",
   "execution_count": 11,
   "id": "26670e91",
   "metadata": {},
   "outputs": [
    {
     "name": "stdout",
     "output_type": "stream",
     "text": [
      "[10, 20, 10, 20, 15, 40, 200, 0]\n"
     ]
    }
   ],
   "source": [
    "#비용 계산 리스트\n",
    "print(c_b)"
   ]
  },
  {
   "cell_type": "code",
   "execution_count": 14,
   "id": "03b567ce",
   "metadata": {},
   "outputs": [
    {
     "name": "stdout",
     "output_type": "stream",
     "text": [
      "[45, 45, 45, 35, 15, 0, 0, 0]\n"
     ]
    }
   ],
   "source": [
    "# 리스트 뒤에서부터 계산 \n",
    "#문제의 6,7일에 있는 상담의 예시 생각하기\n",
    "for i in range(n-1, -1, -1):\n",
    "    if t_l[i]+i>n:\n",
    "        c_b[i]=c_b[i+1]\n",
    "    else:\n",
    "        c_b[i]=max(c_b[i+1],p_l[i]+c_b[i+t_l[i]])\n",
    "print(c_b)"
   ]
  },
  {
   "cell_type": "code",
   "execution_count": 16,
   "id": "f817e00b",
   "metadata": {},
   "outputs": [
    {
     "name": "stdout",
     "output_type": "stream",
     "text": [
      "45\n"
     ]
    }
   ],
   "source": [
    "print(c_b[0]) #최대 이익을 계산한 0번째 인덱스 출력"
   ]
  },
  {
   "cell_type": "markdown",
   "id": "fec280c2",
   "metadata": {},
   "source": [
    "## 2. 제출용(다이나믹 프로그래밍)"
   ]
  },
  {
   "cell_type": "code",
   "execution_count": 17,
   "id": "5630eca8",
   "metadata": {},
   "outputs": [
    {
     "name": "stdout",
     "output_type": "stream",
     "text": [
      "10\n",
      "5 50\n",
      "4 40\n",
      "3 30\n",
      "2 20\n",
      "1 10\n",
      "1 10\n",
      "2 20\n",
      "3 30\n",
      "4 40\n",
      "5 50\n",
      "90\n"
     ]
    }
   ],
   "source": [
    "n = int(input())\n",
    "t_l=[]\n",
    "p_l=[]\n",
    "c_b=[]\n",
    "\n",
    "for i in range(n):\n",
    "    x, y =map(int, input().split())\n",
    "    t_l.append(x)\n",
    "    p_l.append(y)\n",
    "    c_b.append(y)\n",
    "c_b.append(0)\n",
    "\n",
    "# 리스트 뒤에서부터 계산 \n",
    "#문제의 6,7일에 있는 상담의 예시 생각하기\n",
    "for i in range(n-1, -1, -1):\n",
    "    if t_l[i]+i>n:\n",
    "        c_b[i]=c_b[i+1]\n",
    "    else:\n",
    "        c_b[i]=max(c_b[i+1],p_l[i]+c_b[i+t_l[i]])\n",
    "print(c_b[0]) #최대 이익을 계산한 0번째 인덱스 출력"
   ]
  }
 ],
 "metadata": {
  "kernelspec": {
   "display_name": "Python 3 (ipykernel)",
   "language": "python",
   "name": "python3"
  },
  "language_info": {
   "codemirror_mode": {
    "name": "ipython",
    "version": 3
   },
   "file_extension": ".py",
   "mimetype": "text/x-python",
   "name": "python",
   "nbconvert_exporter": "python",
   "pygments_lexer": "ipython3",
   "version": "3.7.11"
  }
 },
 "nbformat": 4,
 "nbformat_minor": 5
}
