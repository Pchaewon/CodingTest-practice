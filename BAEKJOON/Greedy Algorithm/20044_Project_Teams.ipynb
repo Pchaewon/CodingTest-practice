{
  "nbformat": 4,
  "nbformat_minor": 0,
  "metadata": {
    "colab": {
      "name": "20044 Project Teams.ipynb",
      "provenance": [],
      "collapsed_sections": []
    },
    "kernelspec": {
      "name": "python3",
      "display_name": "Python 3"
    },
    "language_info": {
      "name": "python"
    }
  },
  "cells": [
    {
      "cell_type": "code",
      "source": [
        "# 방법 1\n",
        "n = int(input())\n",
        "data=list(map(int, input().split()))\n",
        "data.sort()\n",
        "\n",
        "left = 0\n",
        "right = len(data)-1\n",
        "\n",
        "min_value = 1e9\n",
        "while left < right :\n",
        "  temp = data[left] + data[right]\n",
        "  min_value = min(min_value, temp)\n",
        "  left += 1\n",
        "  right -= 1\n",
        "\n",
        "print(min_value)\n",
        "\n"
      ],
      "metadata": {
        "colab": {
          "base_uri": "https://localhost:8080/"
        },
        "id": "5VWSsDxhoJnO",
        "outputId": "d427d5dd-184e-410d-efd9-6c042d208870"
      },
      "execution_count": 5,
      "outputs": [
        {
          "output_type": "stream",
          "name": "stdout",
          "text": [
            "2\n",
            "1 7 5 8\n",
            "9\n"
          ]
        }
      ]
    },
    {
      "cell_type": "code",
      "source": [
        "# 방법 2\n",
        "n = int(input())\n",
        "data=list(map(int, input().split()))\n",
        "data.sort()\n",
        "\n",
        "left = 0\n",
        "right = len(data)-1\n",
        "\n",
        "value=[]\n",
        "while left < right :\n",
        "  temp = data[left] + data[right]\n",
        "  value.append(temp)\n",
        "  left += 1\n",
        "  right -= 1\n",
        "\n",
        "print(min(value))"
      ],
      "metadata": {
        "colab": {
          "base_uri": "https://localhost:8080/"
        },
        "id": "hwj3t62MQhBM",
        "outputId": "d3f17755-4fd9-4ac8-d92c-de69348aab86"
      },
      "execution_count": 4,
      "outputs": [
        {
          "output_type": "stream",
          "name": "stdout",
          "text": [
            "2\n",
            "1 7 5 8\n",
            "9\n"
          ]
        }
      ]
    },
    {
      "cell_type": "code",
      "source": [
        "# 방법 3\n",
        "n=int(input())\n",
        "data=list(map(int, input().split()))\n",
        "data.sort()\n",
        "\n",
        "answer=[]\n",
        "for i in range(len(data)):\n",
        "    answer.append(data[i]+data[len(data)-1-i])\n",
        "\n",
        "print(min(answer))"
      ],
      "metadata": {
        "colab": {
          "base_uri": "https://localhost:8080/"
        },
        "id": "BySk_5sIp_MC",
        "outputId": "d1c9da6f-4bde-4cd6-fce5-9e90ff1c4ec9"
      },
      "execution_count": null,
      "outputs": [
        {
          "output_type": "stream",
          "name": "stdout",
          "text": [
            "2\n",
            "1 7 5 8\n",
            "9\n"
          ]
        }
      ]
    }
  ]
}