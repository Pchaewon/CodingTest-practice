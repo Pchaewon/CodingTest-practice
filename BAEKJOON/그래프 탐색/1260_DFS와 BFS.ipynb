{
 "cells": [
  {
   "cell_type": "markdown",
   "id": "0487baa1",
   "metadata": {},
   "source": [
    "> deque : 스택과 큐의 기능을 모두 가지고 있음 <br>\n",
    "> sys : 파이썬 인터프리터가 제공하는 변수 함수 직접제어 <br>"
   ]
  },
  {
   "cell_type": "code",
   "execution_count": 10,
   "id": "336ff0cd",
   "metadata": {},
   "outputs": [],
   "source": [
    "from collections import deque"
   ]
  },
  {
   "cell_type": "markdown",
   "id": "6683d6ab",
   "metadata": {},
   "source": [
    "###### 1. dfs 코드 뜯어보기"
   ]
  },
  {
   "cell_type": "code",
   "execution_count": 2,
   "id": "bf00d2ce",
   "metadata": {},
   "outputs": [],
   "source": [
    "#testing\n",
    "def dfs(v):\n",
    "    visit_list2[v]=1\n",
    "    print(\"visit node\", v, end=\" \")\n",
    "    \n",
    "    for i in range(1, n+1):\n",
    "        print(\"\\n index:\",i,\", v:\",v)\n",
    "        if visit_list2[i]==0 and graph[v][i]==1:\n",
    "            print(\"True\")\n",
    "            dfs(i)\n",
    "        else:\n",
    "            print(\"False\")"
   ]
  },
  {
   "cell_type": "code",
   "execution_count": 3,
   "id": "3aa69696",
   "metadata": {},
   "outputs": [
    {
     "name": "stdout",
     "output_type": "stream",
     "text": [
      "4 5 1\n",
      "[[0, 0, 0, 0, 0], [0, 0, 0, 0, 0], [0, 0, 0, 0, 0], [0, 0, 0, 0, 0], [0, 0, 0, 0, 0]]\n"
     ]
    }
   ],
   "source": [
    "#testing\n",
    "n, m, v = map(int, input().split())\n",
    "\n",
    "graph = [[0] * (n + 1) for _ in range(n + 1)] \n",
    "print(graph)"
   ]
  },
  {
   "cell_type": "code",
   "execution_count": 4,
   "id": "cd696c5c",
   "metadata": {},
   "outputs": [
    {
     "name": "stdout",
     "output_type": "stream",
     "text": [
      "[0, 0, 0, 0, 0]\n",
      "[0, 0, 0, 0, 0]\n"
     ]
    }
   ],
   "source": [
    "#testing\n",
    "visit_list= [0]*(n+1)\n",
    "visit_list2=[0]*(n+1)\n",
    "print(visit_list)\n",
    "print(visit_list2)"
   ]
  },
  {
   "cell_type": "code",
   "execution_count": 5,
   "id": "a85300c9",
   "metadata": {},
   "outputs": [
    {
     "name": "stdout",
     "output_type": "stream",
     "text": [
      "1 2\n",
      "1\n",
      "1 3\n",
      "1\n",
      "1 4\n",
      "1\n",
      "2 4\n",
      "1\n",
      "3 4\n",
      "1\n"
     ]
    }
   ],
   "source": [
    "#testing\n",
    "for _ in range(m):\n",
    "        a, b = map(int, input().split())\n",
    "        graph[a][b] = graph[b][a]=1\n",
    "        print(graph[a][b])                    "
   ]
  },
  {
   "cell_type": "code",
   "execution_count": 6,
   "id": "c3951500",
   "metadata": {},
   "outputs": [
    {
     "name": "stdout",
     "output_type": "stream",
     "text": [
      "[[0, 0, 0, 0, 0], [0, 0, 1, 1, 1], [0, 1, 0, 0, 1], [0, 1, 0, 0, 1], [0, 1, 1, 1, 0]]\n"
     ]
    }
   ],
   "source": [
    "#testing\n",
    "print(graph)"
   ]
  },
  {
   "cell_type": "code",
   "execution_count": 7,
   "id": "cdba4eb6",
   "metadata": {
    "scrolled": false
   },
   "outputs": [
    {
     "name": "stdout",
     "output_type": "stream",
     "text": [
      "visit node 1 \n",
      " index: 1 , v: 1\n",
      "False\n",
      "\n",
      " index: 2 , v: 1\n",
      "True\n",
      "visit node 2 \n",
      " index: 1 , v: 2\n",
      "False\n",
      "\n",
      " index: 2 , v: 2\n",
      "False\n",
      "\n",
      " index: 3 , v: 2\n",
      "False\n",
      "\n",
      " index: 4 , v: 2\n",
      "True\n",
      "visit node 4 \n",
      " index: 1 , v: 4\n",
      "False\n",
      "\n",
      " index: 2 , v: 4\n",
      "False\n",
      "\n",
      " index: 3 , v: 4\n",
      "True\n",
      "visit node 3 \n",
      " index: 1 , v: 3\n",
      "False\n",
      "\n",
      " index: 2 , v: 3\n",
      "False\n",
      "\n",
      " index: 3 , v: 3\n",
      "False\n",
      "\n",
      " index: 4 , v: 3\n",
      "False\n",
      "\n",
      " index: 4 , v: 4\n",
      "False\n",
      "\n",
      " index: 3 , v: 1\n",
      "False\n",
      "\n",
      " index: 4 , v: 1\n",
      "False\n"
     ]
    }
   ],
   "source": [
    "#testing\n",
    "dfs(v)"
   ]
  },
  {
   "cell_type": "markdown",
   "id": "d7d815f8",
   "metadata": {},
   "source": [
    "###### 2. bfs 코드 뜯어보기"
   ]
  },
  {
   "cell_type": "code",
   "execution_count": 8,
   "id": "4ecd852f",
   "metadata": {},
   "outputs": [],
   "source": [
    "#testing\n",
    "def bfs(v):\n",
    "    q=deque()\n",
    "    q.append(v)\n",
    "    visit_list[v]=1    \n",
    "    print(\"visit node\", v, end=\" \")\n",
    "    \n",
    "    while q:\n",
    "        v=q.popleft()\n",
    "        print(\"\\n After popleft: \", v,end=\" \")\n",
    "        \n",
    "        for i in range(1, n+1):\n",
    "            print(\"\\n index:\",i,\", v:\",v)\n",
    "            if visit_list[i]==0 and graph[v][i]==1:\n",
    "                print(\"True\")\n",
    "                q.append(i)\n",
    "                visit_list[i]=1\n",
    "                \n",
    "            else:\n",
    "                print(\"False\")"
   ]
  },
  {
   "cell_type": "code",
   "execution_count": 9,
   "id": "0590ce0b",
   "metadata": {
    "scrolled": false
   },
   "outputs": [
    {
     "name": "stdout",
     "output_type": "stream",
     "text": [
      "visit node 1 \n",
      " After popleft:  1 \n",
      " index: 1 , v: 1\n",
      "False\n",
      "\n",
      " index: 2 , v: 1\n",
      "True\n",
      "\n",
      " index: 3 , v: 1\n",
      "True\n",
      "\n",
      " index: 4 , v: 1\n",
      "True\n",
      "\n",
      " After popleft:  2 \n",
      " index: 1 , v: 2\n",
      "False\n",
      "\n",
      " index: 2 , v: 2\n",
      "False\n",
      "\n",
      " index: 3 , v: 2\n",
      "False\n",
      "\n",
      " index: 4 , v: 2\n",
      "False\n",
      "\n",
      " After popleft:  3 \n",
      " index: 1 , v: 3\n",
      "False\n",
      "\n",
      " index: 2 , v: 3\n",
      "False\n",
      "\n",
      " index: 3 , v: 3\n",
      "False\n",
      "\n",
      " index: 4 , v: 3\n",
      "False\n",
      "\n",
      " After popleft:  4 \n",
      " index: 1 , v: 4\n",
      "False\n",
      "\n",
      " index: 2 , v: 4\n",
      "False\n",
      "\n",
      " index: 3 , v: 4\n",
      "False\n",
      "\n",
      " index: 4 , v: 4\n",
      "False\n"
     ]
    }
   ],
   "source": [
    "#testing\n",
    "bfs(v)"
   ]
  },
  {
   "cell_type": "markdown",
   "id": "14198187",
   "metadata": {},
   "source": [
    "##### 3. 완전체"
   ]
  },
  {
   "cell_type": "code",
   "execution_count": 11,
   "id": "f23c20ee",
   "metadata": {},
   "outputs": [],
   "source": [
    "def bfs(v):\n",
    "    q=deque()\n",
    "    q.append(v)\n",
    "    visit_list[v]=1    \n",
    "    \n",
    "    while q:\n",
    "        v=q.popleft()\n",
    "        print(v,end=\" \")\n",
    "        for i in range(1, n+1):\n",
    "            if visit_list[i]==0 and graph[v][i]==1:\n",
    "                q.append(i)\n",
    "                visit_list[i]=1"
   ]
  },
  {
   "cell_type": "code",
   "execution_count": 12,
   "id": "e9baa156",
   "metadata": {},
   "outputs": [],
   "source": [
    "def dfs(v):\n",
    "    visit_list2[v]=1\n",
    "    print(v, end=\" \")\n",
    "    \n",
    "    for i in range(1, n+1):\n",
    "        if visit_list2[i]==0 and graph[v][i]==1:\n",
    "            dfs(i)"
   ]
  },
  {
   "cell_type": "code",
   "execution_count": 13,
   "id": "108b6469",
   "metadata": {},
   "outputs": [
    {
     "name": "stdout",
     "output_type": "stream",
     "text": [
      "4 5 1\n",
      "1 2\n",
      "1 3\n",
      "1 4\n",
      "2 4\n",
      "3 4\n",
      "1 2 4 3 \n",
      "1 2 3 4 "
     ]
    }
   ],
   "source": [
    "n, m, v = map(int, input().split())\n",
    "\n",
    "graph = [[0] * (n + 1) for _ in range(n + 1)] \n",
    "visit_list = [0] * (n + 1)\n",
    "visit_list2 = [0] * (n + 1)\n",
    "\n",
    "for _ in range(m):\n",
    "  a, b = map(int, input().split())\n",
    "  graph[a][b] = graph[b][a] = 1\n",
    "\n",
    "dfs(v)\n",
    "print()\n",
    "bfs(v)"
   ]
  },
  {
   "cell_type": "code",
   "execution_count": null,
   "id": "9c491316",
   "metadata": {},
   "outputs": [],
   "source": []
  }
 ],
 "metadata": {
  "kernelspec": {
   "display_name": "Python 3 (ipykernel)",
   "language": "python",
   "name": "python3"
  },
  "language_info": {
   "codemirror_mode": {
    "name": "ipython",
    "version": 3
   },
   "file_extension": ".py",
   "mimetype": "text/x-python",
   "name": "python",
   "nbconvert_exporter": "python",
   "pygments_lexer": "ipython3",
   "version": "3.7.11"
  }
 },
 "nbformat": 4,
 "nbformat_minor": 5
}
