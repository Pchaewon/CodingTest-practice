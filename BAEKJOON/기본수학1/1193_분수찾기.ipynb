{
 "cells": [
  {
   "cell_type": "markdown",
   "id": "67aed5b9",
   "metadata": {},
   "source": [
    "<img src=\"https://blog.kakaocdn.net/dn/Jn2rU/btq2lBk32Y4/galnl8awciFuUd5zvxRBw1/img.png\">"
   ]
  },
  {
   "cell_type": "markdown",
   "id": "672890b3",
   "metadata": {},
   "source": [
    "##### 설명\n",
    "> 위 빨간선처럼 지그재그 순서로 따라감<br>\n",
    "> X가 주어졌을 때, X번째 분수를 구하는 프로그램을 작성<br>\n",
    "> n 번째 줄의 배열에는 n개의 수가 있음 <br>\n",
    "> n이 짝수인 경우 분자가 오름차순 분모가 내림차순 <br>\n",
    "> n이 홀수인 경우 분자가 내림차순 분모가 오름차순 <br>"
   ]
  },
  {
   "cell_type": "code",
   "execution_count": 4,
   "id": "5ce387dd",
   "metadata": {},
   "outputs": [
    {
     "name": "stdout",
     "output_type": "stream",
     "text": [
      "6\n",
      "1/3\n"
     ]
    }
   ],
   "source": [
    "n = int(input())\n",
    "\n",
    "line = 0 \n",
    "end = 0\n",
    "\n",
    "\n",
    "\n",
    "while n>end:\n",
    "    line += 1\n",
    "    end += line\n",
    "    \n",
    "diff = end-n\n",
    "\n",
    "if line%2 == 0:\n",
    "    top = line-diff\n",
    "    bottom = diff+1\n",
    "else:\n",
    "    top = diff +1\n",
    "    bottom = line - diff\n",
    "    \n",
    "print(\"%d/%d\"%(top,bottom))"
   ]
  },
  {
   "cell_type": "code",
   "execution_count": null,
   "id": "966d44e8",
   "metadata": {},
   "outputs": [],
   "source": []
  }
 ],
 "metadata": {
  "kernelspec": {
   "display_name": "Python 3 (ipykernel)",
   "language": "python",
   "name": "python3"
  },
  "language_info": {
   "codemirror_mode": {
    "name": "ipython",
    "version": 3
   },
   "file_extension": ".py",
   "mimetype": "text/x-python",
   "name": "python",
   "nbconvert_exporter": "python",
   "pygments_lexer": "ipython3",
   "version": "3.7.11"
  }
 },
 "nbformat": 4,
 "nbformat_minor": 5
}
