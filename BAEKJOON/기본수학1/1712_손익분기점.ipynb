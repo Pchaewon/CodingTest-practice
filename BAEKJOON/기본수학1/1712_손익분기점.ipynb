{
 "cells": [
  {
   "cell_type": "code",
   "execution_count": 1,
   "id": "6ab07fea",
   "metadata": {},
   "outputs": [
    {
     "name": "stdout",
     "output_type": "stream",
     "text": [
      "1000 70 170\n",
      "11\n"
     ]
    }
   ],
   "source": [
    "A, B, C = map(int, input().split())\n",
    "\n",
    "if B>=C:\n",
    "    print(-1)\n",
    "else:\n",
    "    num=A//(C-B)+1\n",
    "    print(num)\n",
    "\n",
    "        "
   ]
  }
 ],
 "metadata": {
  "kernelspec": {
   "display_name": "Python 3 (ipykernel)",
   "language": "python",
   "name": "python3"
  },
  "language_info": {
   "codemirror_mode": {
    "name": "ipython",
    "version": 3
   },
   "file_extension": ".py",
   "mimetype": "text/x-python",
   "name": "python",
   "nbconvert_exporter": "python",
   "pygments_lexer": "ipython3",
   "version": "3.7.11"
  }
 },
 "nbformat": 4,
 "nbformat_minor": 5
}
