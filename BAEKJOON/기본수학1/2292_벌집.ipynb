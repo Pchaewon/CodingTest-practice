{
 "cells": [
  {
   "cell_type": "markdown",
   "id": "e45d380b",
   "metadata": {},
   "source": [
    "<img src=\"https://onlinejudgeimages.s3-ap-northeast-1.amazonaws.com/upload/201009/3(2).png\">"
   ]
  },
  {
   "cell_type": "markdown",
   "id": "1144f77f",
   "metadata": {},
   "source": [
    "##### 코드 분석\n",
    "> 벌집이 분포되어 있는 그림을 보면 1->6->12->... 이런 순으로 6의 배수로 증가하는 것을 알 수 있다. <br>\n",
    "\n",
    "##### 입력 \n",
    "> n : 방 번호. 벌집의 위치에서 몇 번째 라인에 있는 숫자인가? <br>\n",
    "\n",
    "##### 출력\n",
    "> 입력으로 주어진 방까지 몇 개의 방을 지나는지 출력."
   ]
  },
  {
   "cell_type": "code",
   "execution_count": 2,
   "id": "07b76336",
   "metadata": {},
   "outputs": [
    {
     "name": "stdout",
     "output_type": "stream",
     "text": [
      "13\n",
      "3\n"
     ]
    }
   ],
   "source": [
    "n= int(input())\n",
    "\n",
    "# 벌집의 개수\n",
    "num = 1 \n",
    "cnt =1\n",
    "\n",
    "while n > num_pile :\n",
    "    # 6의 배수로 증가한다. 1->6->12\n",
    "    num_pile += 6*cnt \n",
    "    cnt += 1\n",
    "    \n",
    "print(cnt)"
   ]
  }
 ],
 "metadata": {
  "kernelspec": {
   "display_name": "Python 3 (ipykernel)",
   "language": "python",
   "name": "python3"
  },
  "language_info": {
   "codemirror_mode": {
    "name": "ipython",
    "version": 3
   },
   "file_extension": ".py",
   "mimetype": "text/x-python",
   "name": "python",
   "nbconvert_exporter": "python",
   "pygments_lexer": "ipython3",
   "version": "3.7.11"
  }
 },
 "nbformat": 4,
 "nbformat_minor": 5
}
