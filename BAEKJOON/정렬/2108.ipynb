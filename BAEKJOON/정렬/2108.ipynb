{
  "nbformat": 4,
  "nbformat_minor": 0,
  "metadata": {
    "colab": {
      "provenance": [],
      "collapsed_sections": []
    },
    "kernelspec": {
      "name": "python3",
      "display_name": "Python 3"
    },
    "language_info": {
      "name": "python"
    }
  },
  "cells": [
    {
      "cell_type": "markdown",
      "source": [
        "#### **코드 윤곽 잡기**\n",
        "1. 시간초과가 떴다. 이유 파악 필요"
      ],
      "metadata": {
        "id": "goY4lXRLYgHb"
      }
    },
    {
      "cell_type": "code",
      "execution_count": null,
      "metadata": {
        "colab": {
          "base_uri": "https://localhost:8080/"
        },
        "id": "7BCJmJ7a_Y2J",
        "outputId": "bda855c7-3be7-4f85-8eef-393c9d9400fd"
      },
      "outputs": [
        {
          "output_type": "stream",
          "name": "stdout",
          "text": [
            "5\n",
            "1\n",
            "3\n",
            "8\n",
            "-2\n",
            "2\n",
            "2\n",
            "2\n",
            "1\n",
            "10\n"
          ]
        }
      ],
      "source": [
        "# 산술평균 : N개 수들의 합을 N으로 나눈 값\n",
        "# 중앙값 : N개 수들을 증가하는 순서로 나열했을 경우 그 중앙에 위치하는 값\n",
        "# 최빈값 : N개 수들 중 가장 많이 나타나는 값\n",
        "# 범위 : N개 수들 중 최댓값과 최솟값의 차이\n",
        "\n",
        "N = int(input())\n",
        "a = []\n",
        "b = []\n",
        "for i in range(N):\n",
        "  x = int(input())\n",
        "  a.append(x)\n",
        "  b.append(x)\n",
        "#print('list a :', a)\n",
        "#print('list b : ', b)\n",
        "\n",
        "#산술평균\n",
        "re1 = round(sum(a)/N)\n",
        "#print('산술평균 :',re1)\n",
        "print(re1)\n",
        "\n",
        "#중앙값\n",
        "a.sort()\n",
        "#print('sorted a:', a)\n",
        "center = len(a)//2\n",
        "#print('center : ', center)\n",
        "re2 = a[center]\n",
        "#print('중앙값 :',re2)\n",
        "print(re2)\n",
        "\n",
        "#최빈값\n",
        "count = {}\n",
        "for i in b:\n",
        "    try: count[i] += 1\n",
        "    except: count[i]=1\n",
        "re3 = max(count,key=count.get)\n",
        "#print('최빈값 :',re3)\n",
        "print(re3)\n",
        "\n",
        "# 범위\n",
        "re4 = max(b)-min(b)\n",
        "#print('범위 :',re4)\n",
        "print(re4)"
      ]
    },
    {
      "cell_type": "markdown",
      "source": [
        "#### 실패 : 시간초과"
      ],
      "metadata": {
        "id": "6KKdIv6_b1ep"
      }
    },
    {
      "cell_type": "code",
      "source": [
        "N = int(input())\n",
        "\n",
        "a = []\n",
        "for _ in range(N):\n",
        "  a.append(int(input()))\n",
        "\n",
        "# 산술평균\n",
        "print(round(sum(a)/N))\n",
        "\n",
        "#최빈값\n",
        "count = {}\n",
        "for i in a:\n",
        "    try: count[i] += 1\n",
        "    except: count[i]=1\n",
        "max_re = max(count,key=count.get)\n",
        "\n",
        "#중앙값\n",
        "a.sort()\n",
        "print(a[len(a)//2])\n",
        "\n",
        "print(max_re)\n",
        "#print('type:',type(max_re),'max_re: ',max_re)\n",
        "\n",
        "#범위\n",
        "print(max(a)-min(a))"
      ],
      "metadata": {
        "id": "cRNQcHsJaqXr",
        "colab": {
          "base_uri": "https://localhost:8080/"
        },
        "outputId": "77893d85-b02f-422f-d16d-04b087d0de4c"
      },
      "execution_count": 9,
      "outputs": [
        {
          "output_type": "stream",
          "name": "stdout",
          "text": [
            "5\n",
            "1\n",
            "3\n",
            "8\n",
            "-2\n",
            "2\n",
            "2\n",
            "2\n",
            "1\n",
            "10\n"
          ]
        }
      ]
    },
    {
      "cell_type": "markdown",
      "source": [
        "#### 실패 : 틀렸습니다\n",
        "- 이유를 모르겠다.............ㅜㅜㅜㅜㅜㅜ"
      ],
      "metadata": {
        "id": "UD80EkZdb45b"
      }
    },
    {
      "cell_type": "code",
      "source": [
        "import sys\n",
        "N = int(sys.stdin.readline())\n",
        "\n",
        "a = []\n",
        "for _ in range(N):\n",
        "  a.append(int(sys.stdin.readline()))\n",
        "\n",
        "# 산술평균\n",
        "print(round(sum(a)/N))\n",
        "\n",
        "#최빈값\n",
        "count = {}\n",
        "for i in a:\n",
        "    try: count[i] += 1\n",
        "    except: count[i]=1\n",
        "max_re = max(count,key=count.get)\n",
        "\n",
        "#중앙값\n",
        "a.sort()\n",
        "print(a[len(a)//2])\n",
        "\n",
        "print(max_re)\n",
        "#print('type:',type(max_re),'max_re: ',max_re)\n",
        "\n",
        "#범위\n",
        "print(max(a)-min(a))"
      ],
      "metadata": {
        "id": "2kr-DIGPb0qV"
      },
      "execution_count": null,
      "outputs": []
    },
    {
      "cell_type": "markdown",
      "source": [
        "#### **실패 : '틀렸습니다'** \n",
        "1. 산술평균 sum()앞에 round()를 사용안함"
      ],
      "metadata": {
        "id": "yLxspQolX06V"
      }
    },
    {
      "cell_type": "code",
      "source": [
        "import sys\n",
        "\n",
        "N = int(input())\n",
        "arr = []\n",
        "for _ in range(N):\n",
        "    arr.append(int(input()))\n",
        "\n",
        "#산술 평균\n",
        "print(\"%.f\"%(sum(arr)/N))\n",
        "\n",
        "#중앙값\n",
        "arr.sort()\n",
        "print(arr[N//2])\n",
        "\n",
        "#최빈값\n",
        "from collections import Counter\n",
        "k=Counter(arr).most_common()\n",
        "\n",
        "if len(arr) > 1:  \n",
        "    if k[0][1] == k[1][1]:print(k[1][0]) \n",
        "    else : print(k[0][0]) \n",
        "else : print(arr[0]) \n",
        "\n",
        "#범위\n",
        "print(arr[-1] -  arr[0])"
      ],
      "metadata": {
        "colab": {
          "base_uri": "https://localhost:8080/"
        },
        "outputId": "90b807d8-337c-41e9-8564-294a721e785f",
        "id": "kt_pl9gYV63L"
      },
      "execution_count": null,
      "outputs": [
        {
          "output_type": "stream",
          "name": "stdout",
          "text": [
            "5\n",
            "1\n",
            "3\n",
            "8\n",
            "-2\n",
            "2\n",
            "2\n",
            "2\n",
            "1\n",
            "10\n"
          ]
        }
      ]
    },
    {
      "cell_type": "markdown",
      "source": [
        "#### **성공 코드**\n",
        "1. sys의 sys.stdin.readline()사용\n",
        "2. collections의 Counter 사용"
      ],
      "metadata": {
        "id": "rlDDPKD4XkTp"
      }
    },
    {
      "cell_type": "code",
      "source": [
        "import sys\n",
        "N = int(sys.stdin.readline())\n",
        "arr = []\n",
        "for _ in range(N):\n",
        "    arr.append(int(sys.stdin.readline()))\n",
        "\n",
        "#산술 평균\n",
        "print(\"%.f\"%round(sum(arr)/N))\n",
        "\n",
        "#중앙값\n",
        "arr.sort()\n",
        "print(arr[N//2])\n",
        "\n",
        "#최빈값\n",
        "from collections import Counter\n",
        "k=Counter(arr).most_common()\n",
        "\n",
        "if len(arr) > 1:  \n",
        "    if k[0][1] == k[1][1]:print(k[1][0]) \n",
        "    else : print(k[0][0]) \n",
        "else : print(arr[0]) \n",
        "\n",
        "#범위\n",
        "print(arr[-1] -  arr[0])"
      ],
      "metadata": {
        "colab": {
          "base_uri": "https://localhost:8080/"
        },
        "outputId": "5f20969f-9cf8-4628-8a16-1ca16f8d90b5",
        "id": "LNW4zvDSV81n"
      },
      "execution_count": 2,
      "outputs": [
        {
          "output_type": "stream",
          "name": "stdout",
          "text": [
            "5\n",
            "1\n",
            "3\n",
            "8\n",
            "-2\n",
            "2\n",
            "2\n",
            "2\n",
            "1\n",
            "10\n"
          ]
        }
      ]
    }
  ]
}