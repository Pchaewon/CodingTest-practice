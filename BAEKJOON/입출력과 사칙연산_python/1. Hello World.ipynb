{
 "cells": [
  {
   "cell_type": "markdown",
   "id": "da8759e3",
   "metadata": {},
   "source": [
    "## 문제\n",
    "### Hello World!를 출력하시오.\n",
    "\n",
    "\n",
    "### 예제 출력1  : Hello World!\n",
    "### 알고리즘 분류 : 구현"
   ]
  },
  {
   "cell_type": "code",
   "execution_count": 1,
   "id": "1dc1bb94",
   "metadata": {},
   "outputs": [
    {
     "name": "stdout",
     "output_type": "stream",
     "text": [
      "Hello World!\n"
     ]
    }
   ],
   "source": [
    "print(\"Hello World!\")"
   ]
  }
 ],
 "metadata": {
  "kernelspec": {
   "display_name": "Python 3",
   "language": "python",
   "name": "python3"
  },
  "language_info": {
   "codemirror_mode": {
    "name": "ipython",
    "version": 3
   },
   "file_extension": ".py",
   "mimetype": "text/x-python",
   "name": "python",
   "nbconvert_exporter": "python",
   "pygments_lexer": "ipython3",
   "version": "3.6.5"
  }
 },
 "nbformat": 4,
 "nbformat_minor": 5
}
