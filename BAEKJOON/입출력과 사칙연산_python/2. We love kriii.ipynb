{
 "cells": [
  {
   "cell_type": "markdown",
   "id": "4cee8f33",
   "metadata": {},
   "source": [
    "## 문제\n",
    "> ACM-ICPC 인터넷 예선, Regional, 그리고 World Finals까지 이미 2회씩 진출해버린 kriii는 미련을 버리지 못하고 왠지 모르게 올해에도 파주 World Finals 준비 캠프에 참여했다.</br>\n",
    "> 대회를 뜰 줄 모르는 지박령 kriii를 위해서 격려의 문구를 출력해주자.\n",
    "\n",
    "\n",
    "### 예제 출력1  :\n",
    "> 강한친구 대한육군 </br>\n",
    "> 강한친구 대한육군 </br>\n",
    "### 알고리즘 분류 : 구현"
   ]
  },
  {
   "cell_type": "code",
   "execution_count": 2,
   "id": "31702b48",
   "metadata": {},
   "outputs": [
    {
     "name": "stdout",
     "output_type": "stream",
     "text": [
      "강한친구 대한육군\n",
      "강한친구 대한육군\n"
     ]
    }
   ],
   "source": [
    "print(\"강한친구 대한육군\")\n",
    "print(\"강한친구 대한육군\")"
   ]
  },
  {
   "cell_type": "code",
   "execution_count": null,
   "id": "36a7bff6",
   "metadata": {},
   "outputs": [],
   "source": [
    "print(\"강한친구 대한육군\")"
   ]
  }
 ],
 "metadata": {
  "kernelspec": {
   "display_name": "Python 3",
   "language": "python",
   "name": "python3"
  },
  "language_info": {
   "codemirror_mode": {
    "name": "ipython",
    "version": 3
   },
   "file_extension": ".py",
   "mimetype": "text/x-python",
   "name": "python",
   "nbconvert_exporter": "python",
   "pygments_lexer": "ipython3",
   "version": "3.6.5"
  }
 },
 "nbformat": 4,
 "nbformat_minor": 5
}
