{
 "cells": [
  {
   "cell_type": "markdown",
   "id": "4cee8f33",
   "metadata": {},
   "source": [
    "## 문제\n",
    "> 아래 예제와 같이 개를 출력하시오.\n",
    "\n",
    "### 예제 출력1  :\n",
    "#### |\\_/|</br>|q p|   /}</br>( 0 )\"\"\"\\ </br>|\"^\"    | </br> ||_/=\\\\__|\n",
    "\n",
    "### 알고리즘 분류 : 구현"
   ]
  },
  {
   "cell_type": "code",
   "execution_count": 5,
   "id": "31702b48",
   "metadata": {},
   "outputs": [
    {
     "name": "stdout",
     "output_type": "stream",
     "text": [
      "|\\_/|\n",
      "|q p|   /}\n",
      "( 0 )\"\"\"\\\n",
      "|\"^\"`    |\n",
      "||_/=\\\\__|\n"
     ]
    }
   ],
   "source": [
    "print(\"|\\_/|\")\n",
    "print(\"|q p|   /}\")\n",
    "print('( 0 )\"\"\"\\\\') ### \\앞에 \\붇이기\n",
    "print('|\"^\"`    |')\n",
    "print(\"||_/=\\\\\\__|\")\n",
    "      "
   ]
  }
 ],
 "metadata": {
  "kernelspec": {
   "display_name": "Python 3",
   "language": "python",
   "name": "python3"
  },
  "language_info": {
   "codemirror_mode": {
    "name": "ipython",
    "version": 3
   },
   "file_extension": ".py",
   "mimetype": "text/x-python",
   "name": "python",
   "nbconvert_exporter": "python",
   "pygments_lexer": "ipython3",
   "version": "3.6.5"
  }
 },
 "nbformat": 4,
 "nbformat_minor": 5
}
