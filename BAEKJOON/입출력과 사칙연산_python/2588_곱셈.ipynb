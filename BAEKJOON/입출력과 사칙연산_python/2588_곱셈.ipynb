{
 "cells": [
  {
   "cell_type": "code",
   "execution_count": 3,
   "id": "91e48b67",
   "metadata": {},
   "outputs": [
    {
     "name": "stdout",
     "output_type": "stream",
     "text": [
      "472\n",
      "385\n",
      "3\n"
     ]
    }
   ],
   "source": [
    "a=int(input())\n",
    "b_list=list(map(int, input()))\n",
    "\n",
    "print(b_list[0])"
   ]
  },
  {
   "cell_type": "code",
   "execution_count": 4,
   "id": "4cb104e8",
   "metadata": {},
   "outputs": [
    {
     "name": "stdout",
     "output_type": "stream",
     "text": [
      "8\n",
      "5\n"
     ]
    }
   ],
   "source": [
    "print(b_list[1])\n",
    "print(b_list[2])"
   ]
  },
  {
   "cell_type": "code",
   "execution_count": 7,
   "id": "9eea01bd",
   "metadata": {},
   "outputs": [
    {
     "name": "stdout",
     "output_type": "stream",
     "text": [
      "2360\n"
     ]
    }
   ],
   "source": [
    "print(a*b_list[2])"
   ]
  },
  {
   "cell_type": "code",
   "execution_count": 8,
   "id": "4902666f",
   "metadata": {},
   "outputs": [
    {
     "name": "stdout",
     "output_type": "stream",
     "text": [
      "3776\n"
     ]
    }
   ],
   "source": [
    "print(a*b_list[1])"
   ]
  },
  {
   "cell_type": "code",
   "execution_count": 9,
   "id": "26dfd9c9",
   "metadata": {},
   "outputs": [
    {
     "name": "stdout",
     "output_type": "stream",
     "text": [
      "1416\n"
     ]
    }
   ],
   "source": [
    "print(a*b_list[0])"
   ]
  },
  {
   "cell_type": "code",
   "execution_count": 15,
   "id": "e8787976",
   "metadata": {},
   "outputs": [
    {
     "name": "stdout",
     "output_type": "stream",
     "text": [
      "2360\n",
      "3776\n",
      "1416\n",
      "181720\n"
     ]
    }
   ],
   "source": [
    "x=a*b_list[2]\n",
    "y=a*b_list[1]\n",
    "z=a*b_list[0]\n",
    "\n",
    "print(str(x)+\"\\n\"+str(y)+\"\\n\"+str(z))\n",
    "print(x+(10*y)+(100*z))"
   ]
  },
  {
   "cell_type": "code",
   "execution_count": 16,
   "id": "49230453",
   "metadata": {},
   "outputs": [
    {
     "name": "stdout",
     "output_type": "stream",
     "text": [
      "472\n",
      "385\n",
      "2360\n",
      "3776\n",
      "1416\n",
      "181720\n"
     ]
    }
   ],
   "source": [
    "a=int(input())\n",
    "b_list=list(map(int, input()))\n",
    "\n",
    "x=a*b_list[2]\n",
    "y=a*b_list[1]\n",
    "z=a*b_list[0]\n",
    "\n",
    "print(str(x)+\"\\n\"+str(y)+\"\\n\"+str(z))\n",
    "print(x+(10*y)+(100*z))"
   ]
  },
  {
   "cell_type": "code",
   "execution_count": null,
   "id": "b352ac3e",
   "metadata": {},
   "outputs": [],
   "source": []
  }
 ],
 "metadata": {
  "kernelspec": {
   "display_name": "Python 3 (ipykernel)",
   "language": "python",
   "name": "python3"
  },
  "language_info": {
   "codemirror_mode": {
    "name": "ipython",
    "version": 3
   },
   "file_extension": ".py",
   "mimetype": "text/x-python",
   "name": "python",
   "nbconvert_exporter": "python",
   "pygments_lexer": "ipython3",
   "version": "3.7.11"
  }
 },
 "nbformat": 4,
 "nbformat_minor": 5
}
