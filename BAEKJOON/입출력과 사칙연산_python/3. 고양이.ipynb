{
 "cells": [
  {
   "cell_type": "markdown",
   "id": "4cee8f33",
   "metadata": {},
   "source": [
    "## 문제\n",
    "> 아래 예제와 같이 고양이를 출력하시오.\n",
    "\n",
    "### 예제 출력1  :\n",
    "\\    /\\ </br>\n",
    " )  ( ') </br>\n",
    "(  /  ) </br>\n",
    " \\(__)| </br>\n",
    "\n",
    "### 알고리즘 분류 : 구현"
   ]
  },
  {
   "cell_type": "code",
   "execution_count": 3,
   "id": "31702b48",
   "metadata": {},
   "outputs": [
    {
     "name": "stdout",
     "output_type": "stream",
     "text": [
      "\\    /\\\n",
      " )  ( ')\n",
      "(  /  )\n",
      " \\(__)|\n"
     ]
    }
   ],
   "source": [
    "print('\\    /\\\\') #### \\를 문자열에 출력하기 위해서는 \\를 앞에 붙여준다.\n",
    "print(\" )  ( ')\") ### '(홀따옴표)를 출력하기 위해서는 \"(쌍따옴표)로 감싸준다.\n",
    "print(\"(  /  )\")    \n",
    "print(\" \\(__)|\")"
   ]
  }
 ],
 "metadata": {
  "kernelspec": {
   "display_name": "Python 3",
   "language": "python",
   "name": "python3"
  },
  "language_info": {
   "codemirror_mode": {
    "name": "ipython",
    "version": 3
   },
   "file_extension": ".py",
   "mimetype": "text/x-python",
   "name": "python",
   "nbconvert_exporter": "python",
   "pygments_lexer": "ipython3",
   "version": "3.6.5"
  }
 },
 "nbformat": 4,
 "nbformat_minor": 5
}
