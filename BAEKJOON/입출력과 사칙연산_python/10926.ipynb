{
 "cells": [
  {
   "cell_type": "code",
   "execution_count": 3,
   "id": "a9578455",
   "metadata": {},
   "outputs": [
    {
     "name": "stdout",
     "output_type": "stream",
     "text": [
      "joonas\n",
      "joonas??!\n"
     ]
    }
   ],
   "source": [
    "id = input()\n",
    "\n",
    "if len(id)>50:\n",
    "    print(\"error!\")\n",
    "else :\n",
    "    print(id+\"??!\")\n",
    "    \n",
    "    ## 주의 할점\n",
    "    ## print(id,\"??!\")로 출력할 시 id뒤에 공백을 출력하여 오답으로 나온다."
   ]
  },
  {
   "cell_type": "code",
   "execution_count": null,
   "id": "e556a0a5",
   "metadata": {},
   "outputs": [],
   "source": []
  }
 ],
 "metadata": {
  "kernelspec": {
   "display_name": "Python 3 (ipykernel)",
   "language": "python",
   "name": "python3"
  },
  "language_info": {
   "codemirror_mode": {
    "name": "ipython",
    "version": 3
   },
   "file_extension": ".py",
   "mimetype": "text/x-python",
   "name": "python",
   "nbconvert_exporter": "python",
   "pygments_lexer": "ipython3",
   "version": "3.7.11"
  }
 },
 "nbformat": 4,
 "nbformat_minor": 5
}
